{
  "nbformat": 4,
  "nbformat_minor": 0,
  "metadata": {
    "colab": {
      "name": "XDCClab.ipynb",
      "provenance": [],
      "collapsed_sections": []
    },
    "kernelspec": {
      "name": "python3",
      "display_name": "Python 3"
    }
  },
  "cells": [
    {
      "cell_type": "markdown",
      "metadata": {
        "id": "rY4tEqXCBDLJ"
      },
      "source": [
        "<font size=8>&nbsp;<font color=#F7C5A1>**XDCClab =**</font> <font color=#F9AB00>**Colab**<font color=#C9E9FF> **+**<font color=#908672> **xdcc-dl**<font color=#C9E9FF> **+** <font color=#017547>**xdccget**\n",
        "\n",
        "###### In case you stumbled upon this colab notebook somewhere on the internet, here's the **[repo](https://github.com/hyPnOtICDo0g/Otakulab)**."
      ]
    },
    {
      "cell_type": "markdown",
      "metadata": {
        "id": "hzS7oIME83L-"
      },
      "source": [
        "## Configuring the IRC clients\n",
        "Upload your rclone config file and run this cell. ***IRC gang, where you at?***"
      ]
    },
    {
      "cell_type": "code",
      "metadata": {
        "id": "tg2L7MXJ828Y",
        "cellView": "form"
      },
      "source": [
        "#@markdown #### Fetch Dependencies\n",
        "%%shell\n",
        "\n",
        "if ! [ -e /content/rclone.conf ]\n",
        "then\n",
        "  echo -e \"\\e[31mRclone config not found.\"\n",
        "  # using exit code 0 instead of 1 as colab tends to throw a ton of errors\n",
        "  exit 0\n",
        "fi\n",
        "\n",
        "if ! [ -e /usr/bin/xdccget ]\n",
        "then\n",
        "  git clone -q https://github.com/RhythmLunatic/xdccget.git\n",
        "  cd xdccget && make -s && mv xdccget /usr/bin\n",
        "fi\n",
        "\n",
        "rm -rf \"/content/sample_data\" \n",
        "mkdir -p \"/content/Downloads\"\n",
        "pip install xdcc-dl -q\n",
        "curl https://rclone.org/install.sh | sudo bash\n",
        "echo -e \"\\033[96mDependencies Fetched.\""
      ],
      "execution_count": null,
      "outputs": []
    },
    {
      "cell_type": "markdown",
      "metadata": {
        "id": "Tlyguvdel_NX"
      },
      "source": [
        "## Using a required client to download\n",
        "***Feeling nostalgic yet?***"
      ]
    },
    {
      "cell_type": "code",
      "metadata": {
        "id": "3zl9AP_Inrq_",
        "cellView": "form"
      },
      "source": [
        "#@markdown #### • xdcc-dl will be set as default as it's stable & works great for batch downloads.\n",
        "#@markdown #### • xdccget is more verbose, i.e. it includes a speed indicator, queue position, etc but no batch support.\n",
        "\n",
        "CLIENT = 'xdcc-dl' #@param [\"xdcc-dl\", \"xdccget\"]\n",
        "CHANNEL = '#nibl' #@param [\"#nibl\", \"#MK\", \"#XDCCLeech\"] {allow-input: true}\n",
        "SERVER = 'irc.rizon.net' #@param [\"irc.rizon.net\", \"irc.xertion.org\"] {allow-input: true}\n",
        "COMMAND = '' #@param {type:\"string\"}\n",
        "DIR = '/content/Downloads'\n",
        "\n",
        "if COMMAND != '':\n",
        "# xdcc-dl tends to give an error when a download a forcefully interrupted, this can be safely ignored\n",
        "  if CLIENT == 'xdcc-dl':\n",
        "    cmd = COMMAND.replace('batch ', 'send #')\n",
        "    !cd \"$DIR\" && xdcc-dl -v \"$cmd\" -s \"$SERVER\" --fallback-channel \"$CHANNEL\"\n",
        "  elif CLIENT == 'xdccget':\n",
        "    cmd = COMMAND.split()[1] + ' xdcc send ' + COMMAND.split()[4]\n",
        "    !xdccget -v -i \"$SERVER\" \"$CHANNEL\" \"$cmd\" --dont-confirm-offsets -d \"$DIR\"\n",
        "else:\n",
        "  print('\\033[91mEmpty \\'COMMAND\\' Field.')"
      ],
      "execution_count": null,
      "outputs": []
    },
    {
      "cell_type": "markdown",
      "metadata": {
        "id": "zUYynqQN3JBY"
      },
      "source": [
        "## The Rclone Wars\n",
        "***Pew Pew*** those downloaded files to your remote."
      ]
    },
    {
      "cell_type": "code",
      "metadata": {
        "id": "i-vvXLg35Kwx",
        "cellView": "form"
      },
      "source": [
        "#@markdown #### • Enter the source & destination paths & run this cell.\n",
        "#@markdown #### • You can obtain the **source path** by using the file manager to your left.\n",
        "#@markdown #### • **Destination path** is the remote you want to transfer to.\n",
        "\n",
        "SOURCE = \"/content/Downloads\" #@param {type:\"string\"}\n",
        "DESTINATION = \"drive:\" #@param {type:\"string\"}\n",
        "ARGS = \"--transfers=10 --fast-list --stats-one-line -v\" #@param {type:\"string\"}\n",
        "\n",
        "!rclone copy \"$SOURCE\" \"$DESTINATION\" $ARGS --config rclone.conf"
      ],
      "execution_count": null,
      "outputs": []
    }
  ]
}