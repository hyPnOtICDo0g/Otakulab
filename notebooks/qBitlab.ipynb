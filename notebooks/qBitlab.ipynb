{
  "nbformat": 4,
  "nbformat_minor": 0,
  "metadata": {
    "colab": {
      "name": "qBitlab.ipynb",
      "provenance": [],
      "collapsed_sections": [
        "eTohlk2R2qMr",
        "zgsofoU8SB2s"
      ]
    },
    "kernelspec": {
      "name": "python3",
      "display_name": "Python 3"
    }
  },
  "cells": [
    {
      "cell_type": "markdown",
      "metadata": {
        "id": "rY4tEqXCBDLJ"
      },
      "source": [
        "<font size=8>&nbsp;<font color=#3F7DCB>**q**<font color=#C9E9FF>**Bitlab =**</font> <font color=#F9AB00>**Colab**<font color=#C9E9FF> **+**<font color=#202229> **qBittorrent-nox**<font color=#C9E9FF> **+** <font color=#3FB27F>**VueTorrent**\n",
        "\n",
        "In case you stumbled upon this colab notebook somewhere on the internet, here's the **[repo](https://github.com/hyPnOtICDo0g/Otakulab)**."
      ]
    },
    {
      "cell_type": "markdown",
      "metadata": {
        "id": "eTohlk2R2qMr"
      },
      "source": [
        "## Fetch Dependencies\n",
        "Nothing fancy here. Double click below if interested. (Run this cell before anything below) 👀"
      ]
    },
    {
      "cell_type": "code",
      "metadata": {
        "id": "vBNdwvNzDqjY",
        "cellView": "form"
      },
      "source": [
        "#@markdown #### Dependencies\n",
        "%%shell\n",
        "if [ -e /usr/bin/qbittorrent-nox ] && [ -e /content/vuetorrent.zip ]\n",
        "then\n",
        "  echo Done!\n",
        "else\n",
        "  pip install pyngrok\n",
        "  apt update -qq -y && yes \"\" | add-apt-repository ppa:qbittorrent-team/qbittorrent-stable\n",
        "  apt install screen qbittorrent-nox -qq\n",
        "  npm install -g npm localtunnel\n",
        "    \n",
        "  BASE_URL=\"https://github.com/WDaan/VueTorrent\"\n",
        "  LATEST_TAG=$(curl -s \"${BASE_URL}/releases/latest\" | sed -En 's/.+\\/tag\\/([.0-9A-Za-z]+)\".+/\\1/p')\n",
        "  wget -q  --show-progress $BASE_URL\"/releases/download/\"$LATEST_TAG\"/vuetorrent.zip\"\n",
        "  unzip -qq vuetorrent.zip\n",
        "  echo Done!\n",
        "fi"
      ],
      "execution_count": null,
      "outputs": []
    },
    {
      "cell_type": "markdown",
      "metadata": {
        "id": "8qegGP4w8Gjn"
      },
      "source": [
        "## Mount Google Drive\n",
        "To Download files we need to mount Google Drive.\n"
      ]
    },
    {
      "cell_type": "code",
      "metadata": {
        "id": "z4GiP2Gt55lG",
        "cellView": "form"
      },
      "source": [
        "#@markdown #### 🔼 This cell will mount your Google Drive to /content/drive\n",
        "#@markdown <br><center><img src='https://upload.wikimedia.org/wikipedia/commons/thumb/1/12/Google_Drive_icon_%282020%29.svg/672px-Google_Drive_icon_%282020%29.svg.png' height=\"50\"></center>\n",
        "#@markdown #### • Type the name of the Shared/Team drive if you have one (Optional)\n",
        "\n",
        "from google.colab import drive\n",
        "MODE = \"MOUNT\" #@param [\"MOUNT\", \"UNMOUNT\"]\n",
        "\n",
        "#Option to directly download to your team drive so as to remove the file size limits\n",
        "#Names are case-sensitive\n",
        "TD = \"\"  #@param {type:\"string\"}\n",
        "\n",
        "#Enter your authorization code & click enter\n",
        "if MODE == \"MOUNT\":\n",
        "  drive.mount('/content/drive')\n",
        "elif MODE == \"UNMOUNT\":\n",
        "   drive.flush_and_unmount()"
      ],
      "execution_count": null,
      "outputs": []
    },
    {
      "cell_type": "markdown",
      "metadata": {
        "id": "hzS7oIME83L-"
      },
      "source": [
        "## Start a Local server & Port forward it using [*localtunnel*](https://theboroer.github.io/localtunnel-www) or [*ngrok*](https://ngrok.com)\n",
        "WebUI & Colab VM act as frontend & backend."
      ]
    },
    {
      "cell_type": "code",
      "metadata": {
        "id": "tg2L7MXJ828Y",
        "cellView": "form"
      },
      "source": [
        "#@markdown <br><center><img src=\"https://upload.wikimedia.org/wikipedia/commons/thumb/6/66/New_qBittorrent_Logo.svg/2048px-New_qBittorrent_Logo.svg.png\" height=\"80\"></a></center><br>\n",
        "#@markdown #### • Username: `qbitcolab` (Just click login after typing it)\n",
        "#@markdown #### • localtunnel will be set as default as ngrok is rate limiting requests.\n",
        "#@markdown #### • To change the download location or tunnel, choose the required options & run the cell again.\n",
        "\n",
        "!echo \"Configuring qBittorrent...\"\n",
        "\n",
        "#check whether team drive is initialised or not\n",
        "try:\n",
        "  TD\n",
        "except NameError as notini:\n",
        "  TD=\"\"\n",
        "\n",
        "from pyngrok import ngrok\n",
        "from google.colab import output\n",
        "import os, time\n",
        "!rm -f root/.config/qBittorrent/qBittorrent.conf screenlog.0\n",
        "\n",
        "Temp_storage_VM = True #@param {type:\"boolean\"}\n",
        "tunnel = \"localtunnel\" #@param [\"localtunnel\", \"ngrok\"]\n",
        "DL_LOC = \"MY DRIVE (15GB)\" #@param [\"COLAB VM (70GB)\", \"MY DRIVE (15GB)\", \"SHARED DRIVE (∞)\"]\n",
        "DIR = \"qBittorrent\"  #@param {type:\"string\"}\n",
        "theme = \"VueTorrent\" #@param [\"Default\", \"VueTorrent\"]\n",
        "\n",
        "!mkdir -p /{content/qBittorrent,root/{.qBittorrent_temp,.config/qBittorrent}}\n",
        "!curl -s https://pastebin.com/raw/n490aNnH -o /root/.config/qBittorrent/qBittorrent.conf\n",
        "\n",
        "if theme == \"Default\":\n",
        "  !sed -i 's|AlternativeUIEnabled=true|AlternativeUIEnabled=false|' /root/.config/qBittorrent/qBittorrent.conf\n",
        "\n",
        "#Configuring the appropriate folder to download\n",
        "if (DL_LOC == \"MY DRIVE (15GB)\") and os.path.isdir(\"/content/drive/MyDrive\") == True:\n",
        "\n",
        "#disabling this will slow down download speeds\n",
        "#Since it'll be using your drive as temp storage\n",
        "  if Temp_storage_VM == False:\n",
        "    !sed -i 's|TempPath=/content/qBittorrent|TempPath=/content/drive/MyDrive/qBittorrent|' /root/.config/qBittorrent/qBittorrent.conf\n",
        "  !sed -i 's|content/Downloads/qBittorrent|content/drive/MyDrive/'$DIR'|' /root/.config/qBittorrent/qBittorrent.conf\n",
        "\n",
        "elif (DL_LOC == \"SHARED DRIVE (\\u221E)\" and TD != \"\"):\n",
        "  if Temp_storage_VM == False:\n",
        "    !sed -i 's|TempPath=/content/qBittorrent|TempPath=/content/drive/Shareddrives/'$TD'/qBittorrent|' /root/.config/qBittorrent/qBittorrent.conf\n",
        "  !sed -i 's|content/Downloads/qBittorrent|content/drive/Shareddrives/'$TD'/'$DIR'|' /root/.config/qBittorrent/qBittorrent.conf\n",
        "\n",
        "else:\n",
        "  !echo \"\"\n",
        "  !echo \"Google drive/Shared drive mount not detected, defaulting to Colab VM as the download location.\"\n",
        "  !sed -i 's|content/Downloads/qBittorrent|content/Downloads/'$DIR'|' /root/.config/qBittorrent/qBittorrent.conf\n",
        "\n",
        "#Killing the server to reload a new config\n",
        "#Downloaded stuff won't be deleted & partially downloaded files will be rehashed\n",
        "\n",
        "!pkill -9 node\n",
        "!pkill -9 qbittorrent\n",
        "ngrok.kill()\n",
        "time.sleep(3)\n",
        "\n",
        "#Start qbittorrent-nox as a daemon\n",
        "!qbittorrent-nox -d --webui-port=3000\n",
        "\n",
        "#Start localtunnel & open a HTTPS tunnel on port 3000\n",
        "if tunnel == \"localtunnel\":\n",
        "  !screen -dm -L lt -p 3000\n",
        "  time.sleep(10)\n",
        "  output.clear()\n",
        "  !echo \"WebUI: \"$(sed -r 's/your url is: //' screenlog.0 | grep loca)\n",
        "\n",
        "#Using pyngrok to open a HTTPS tunnel on port 3000\n",
        "elif tunnel == \"ngrok\":\n",
        "  AUTH_TOKEN = \"\"\n",
        "  ngrok.set_auth_token(AUTH_TOKEN)\n",
        "  output.clear()\n",
        "  public_url = ngrok.connect(3000, \"http\", options={\"bind_tls\": True})\n",
        "  !printf \"WebUI: \"; printf \"$public_url\" | grep -Eo 'http://[^ >]+' | head -1 | sed 's/http/https/g';"
      ],
      "execution_count": null,
      "outputs": []
    },
    {
      "cell_type": "markdown",
      "metadata": {
        "id": "zUYynqQN3JBY"
      },
      "source": [
        "## Transfer downloaded files using rclone \n",
        "Run this cell only if Colab VM was set as the download location."
      ]
    },
    {
      "cell_type": "code",
      "metadata": {
        "id": "i-vvXLg35Kwx",
        "cellView": "form"
      },
      "source": [
        "#@markdown #### • Enter the source & destination paths & run this cell.\n",
        "#@markdown #### • Upload your `rclone.conf` file when prompted.\n",
        "#@markdown #### • You can get the _source path_ by using the file manager to your left.\n",
        "#@markdown #### • _Destination path_ is the remote you wanna transfer to.\n",
        "\n",
        "from os import path\n",
        "if DL_LOC == \"COLAB VM (70GB)\":\n",
        "  from google.colab import files\n",
        "  if path.exists(\"/root/.config/rclone/rclone.conf\") == False:\n",
        "\n",
        "    files.upload()\n",
        "    !mkdir -p /root/.config/rclone;mv rclone.conf /root/.config/rclone\n",
        "    !curl https://rclone.org/install.sh | sudo bash\n",
        "    output.clear()\n",
        "\n",
        "  Source = \"\" #@param {type:\"string\"}\n",
        "  Destination = \"\" #@param {type:\"string\"}\n",
        "\n",
        "  !echo \"Transferring...\"\n",
        "  !rclone copy \"$Source\" \"$Destination\"\n",
        "  output.clear()\n",
        "  !echo \"Done!\""
      ],
      "execution_count": null,
      "outputs": []
    },
    {
      "cell_type": "markdown",
      "metadata": {
        "id": "zgsofoU8SB2s"
      },
      "source": [
        "## Kill the server ☠️\n",
        "\n",
        "*Omae wa mou shinderu.*"
      ]
    },
    {
      "cell_type": "code",
      "metadata": {
        "id": "gahpBLWjRWOj",
        "cellView": "form"
      },
      "source": [
        "#@markdown (× _ ×;)\n",
        "#Change status to ded to kill the server\n",
        "%%shell\n",
        "STATUS=\"aLivE\" #@param [\"aLivE\", \"ded\"]\n",
        "if [ \"$STATUS\" = \"ded\" ]\n",
        "then \n",
        "  pkill -9 ngrok;pkill -9 node;pkill -9 qbittorrent\n",
        "  printf \"Well, Done & Dusted.\"\n",
        "fi"
      ],
      "execution_count": null,
      "outputs": []
    }
  ]
}