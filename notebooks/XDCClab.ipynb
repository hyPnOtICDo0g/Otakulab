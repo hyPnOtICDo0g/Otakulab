{
  "nbformat": 4,
  "nbformat_minor": 0,
  "metadata": {
    "colab": {
      "name": "XDCClab.ipynb",
      "provenance": [],
      "collapsed_sections": []
    },
    "kernelspec": {
      "name": "python3",
      "display_name": "Python 3"
    }
  },
  "cells": [
    {
      "cell_type": "markdown",
      "metadata": {
        "id": "rY4tEqXCBDLJ"
      },
      "source": [
        "<font size=8>&nbsp;<font color=#F7C5A1>**XDCClab =**</font> <font color=#F9AB00>**Colab**<font color=#C9E9FF> **+**<font color=#908672> **xdcc-dl**<font color=#C9E9FF> **+** <font color=#017547>**xdccget**\n",
        "\n",
        "In case you stumbled upon this colab notebook somewhere on the internet, here's the **[repo](https://github.com/hyPnOtICDo0g/Otakulab)**."
      ]
    },
    {
      "cell_type": "markdown",
      "metadata": {
        "id": "8qegGP4w8Gjn"
      },
      "source": [
        "## Mount Google Drive\n",
        "To Download files we need to mount Google Drive.\n"
      ]
    },
    {
      "cell_type": "code",
      "metadata": {
        "id": "z4GiP2Gt55lG",
        "cellView": "form"
      },
      "source": [
        "#@markdown #### 🔼 This cell will mount your Google Drive to /content/drive\n",
        "#@markdown <br><center><img src='https://upload.wikimedia.org/wikipedia/commons/thumb/1/12/Google_Drive_icon_%282020%29.svg/672px-Google_Drive_icon_%282020%29.svg.png' height=\"50\"></center>\n",
        "#@markdown #### • Type the name of the Shared/Team drive if you have one (Optional)\n",
        "\n",
        "from google.colab import drive\n",
        "MODE = \"MOUNT\" #@param [\"MOUNT\", \"UNMOUNT\"]\n",
        "\n",
        "#Option to directly download to your TD so as to remove the file size limits\n",
        "#Names are case-sensitive\n",
        "TD = \"\"  #@param {type:\"string\"}\n",
        "\n",
        "#Enter your authorization code & click enter\n",
        "if MODE == \"MOUNT\":\n",
        "  drive.mount('/content/drive')\n",
        "elif MODE == \"UNMOUNT\":\n",
        "   drive.flush_and_unmount()"
      ],
      "execution_count": null,
      "outputs": []
    },
    {
      "cell_type": "markdown",
      "metadata": {
        "id": "hzS7oIME83L-"
      },
      "source": [
        "## Configuring the IRC clients\n",
        "*IRC gang, where you at?*"
      ]
    },
    {
      "cell_type": "code",
      "metadata": {
        "id": "tg2L7MXJ828Y",
        "cellView": "form"
      },
      "source": [
        "from google.colab import output\n",
        "from os import path\n",
        "import pathlib, time\n",
        "if path.exists(\"/bin/xdccget\") == False:\n",
        "  !echo \"Performing Shell Sorcery...\"\n",
        "  !pip install xdcc-dl -q > nul\n",
        "  !git clone --quiet https://github.com/RhythmLunatic/xdccget.git\n",
        "  output.clear()\n",
        "  !cd xdccget;make -s;mv xdccget /bin\n",
        "  !rm -rf sample_data nul xdccget\n",
        "!echo \"Configuring Stuff...\"\n",
        "\n",
        "#@markdown #### • You can either set a custom channel/server or select one from the drop down list.\n",
        "#@markdown #### • You are need to run this cell again on making any changes below.\n",
        "\n",
        "DL_DIR = \"Downloads\" #@param {type:\"string\"}\n",
        "DL_LOC = \"COLAB VM (70GB)\" #@param [\"COLAB VM (70GB)\", \"MY DRIVE (15GB)\", \"SHARED DRIVE (∞)\"]\n",
        "channel = '#nibl' #@param [\"#nibl\", \"#MK\", \"#XDCCLeech\"] {allow-input: true}\n",
        "server = 'irc.rizon.net' #@param [\"irc.rizon.net\", \"irc.xertion.org\"] {allow-input: true}\n",
        "\n",
        "if DL_LOC == \"COLAB VM (70GB)\":\n",
        "  pathlib.Path(\"/content/\"+DL_DIR).mkdir(parents=False, exist_ok=True)\n",
        "  finloc = \"/content/\"+DL_DIR\n",
        "\n",
        "#In case you skipped the above cell & didn't mount your drive or typed the TD's name, you'll get an error.\n",
        "#You're trying to download to a folder which doesn't exist. ¯\\_(ツ)_/¯\n",
        "#Mount your drive by running the above cell & run this cell again\n",
        "elif DL_LOC == \"MY DRIVE (15GB)\":\n",
        "  pathlib.Path(\"/content/drive/MyDrive/\"+DL_DIR).mkdir(parents=False, exist_ok=True)\n",
        "  finloc = \"/content/drive/MyDrive/\"+DL_DIR\n",
        "elif DL_LOC == \"SHARED DRIVE (\\u221E)\":\n",
        "  pathlib.Path(\"/content/drive/Shareddrives/\"+TD+\"/\"+DL_DIR).mkdir(parents=False, exist_ok=True)\n",
        "  finloc = \"/content/drive/Shareddrives/\"+TD+\"/\"+DL_DIR\n",
        "time.sleep(8)\n",
        "output.clear()\n",
        "\n",
        "!echo \"Done!\""
      ],
      "execution_count": null,
      "outputs": []
    },
    {
      "cell_type": "markdown",
      "metadata": {
        "id": "Tlyguvdel_NX"
      },
      "source": [
        "## Using the required client to download\n",
        "*Feeling nostalgic yet?*"
      ]
    },
    {
      "cell_type": "code",
      "metadata": {
        "id": "3zl9AP_Inrq_",
        "cellView": "form"
      },
      "source": [
        "#@markdown #### • xdcc-dl will be set as default as it's stable & works great for batch downloads.\n",
        "#@markdown #### • xdccget is more verbose, i.e. it includes a speed indicator, queue position, etc but no batch support.\n",
        "\n",
        "client = \"xdcc-dl\" #@param [\"xdcc-dl\", \"xdccget\"]\n",
        "command = \"\" #@param {type:\"string\"}\n",
        "\n",
        "#The '.ipynb_checkpoints' folder can be deleted after the downloads are complete\n",
        "#xdcc-dl tends to give an error when a download a forcefully interrupted, this can be safely ignored\n",
        "if client == \"xdcc-dl\":\n",
        "  cmdedit = command.replace(\"batch \", \"send #\")\n",
        "  !cd \"$finloc\";xdcc-dl -v \"$cmdedit\" -s \"$server\" --fallback-channel \"$channel\"\n",
        "elif client == \"xdccget\":\n",
        "  bot = command.split()[1]\n",
        "  pack = command.split()[4]\n",
        "  !xdccget -v -i \"$server\" \"$channel\" \"$bot xdcc send $pack\" --dont-confirm-offsets -d \"$finloc\""
      ],
      "execution_count": null,
      "outputs": []
    },
    {
      "cell_type": "markdown",
      "metadata": {
        "id": "zUYynqQN3JBY"
      },
      "source": [
        "## The Rclone Wars\n",
        "*Pew Pew* those downloaded files to your drive(s)."
      ]
    },
    {
      "cell_type": "code",
      "metadata": {
        "id": "i-vvXLg35Kwx",
        "cellView": "form"
      },
      "source": [
        "#@markdown #### • Enter the source & destination paths & run this cell.\n",
        "#@markdown #### • Upload your `rclone.conf` file when prompted.\n",
        "#@markdown #### • You can get the **source path** by using the file manager to your left.\n",
        "#@markdown #### • **Destination path** is the remote you wanna transfer to.\n",
        "\n",
        "from os import path\n",
        "from google.colab import output\n",
        "from google.colab import files\n",
        "\n",
        "if path.exists(\"/root/.config/rclone/rclone.conf\") == False:\n",
        "\n",
        "  files.upload()\n",
        "  !mkdir -p /root/.config/rclone;mv rclone.conf /root/.config/rclone\n",
        "  !curl -s https://rclone.org/install.sh | sudo bash > log\n",
        "  output.clear()\n",
        "\n",
        "dry_run = False #@param {type:\"boolean\"}\n",
        "Source = \"\" #@param {type:\"string\"}\n",
        "Destination = \"\" #@param {type:\"string\"}\n",
        "Extra_args = \"\" #@param {type:\"string\"}\n",
        "  \n",
        "args = \"--stats-one-line --fast-list -v \"\n",
        "if dry_run == True:\n",
        "  args +=\"--dry-run \"\n",
        "if Extra_args != \"\":\n",
        "  args +=Extra_args\n",
        "!rclone copy \"$Source\" \"$Destination\" $args "
      ],
      "execution_count": null,
      "outputs": []
    }
  ]
}