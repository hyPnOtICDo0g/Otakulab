{
  "nbformat": 4,
  "nbformat_minor": 0,
  "metadata": {
    "colab": {
      "name": "qBitlab.ipynb",
      "provenance": [],
      "collapsed_sections": [
        "eTohlk2R2qMr",
        "zgsofoU8SB2s"
      ]
    },
    "kernelspec": {
      "name": "python3",
      "display_name": "Python 3"
    }
  },
  "cells": [
    {
      "cell_type": "markdown",
      "metadata": {
        "id": "rY4tEqXCBDLJ"
      },
      "source": [
        "<font size=8>&nbsp;<font color=#3F7DCB>**q**<font color=#C9E9FF>**Bitlab =**</font> <font color=#F9AB00>**Colab**<font color=#C9E9FF> **+**<font color=#202229> **qBittorrent-nox**<font color=#C9E9FF>\n",
        "\n",
        "###### In case you stumbled upon this colab notebook somewhere on the internet, here's the **[repo](https://github.com/hyPnOtICDo0g/Otakulab)**."
      ]
    },
    {
      "cell_type": "markdown",
      "metadata": {
        "id": "eTohlk2R2qMr"
      },
      "source": [
        "## Configuration\n",
        "Upload your rclone config file and run this cell."
      ]
    },
    {
      "cell_type": "code",
      "metadata": {
        "id": "vBNdwvNzDqjY",
        "cellView": "form"
      },
      "source": [
        "#@markdown #### Fetch Dependencies\n",
        "%%shell\n",
        "\n",
        "if ! [ -e /content/rclone.conf ]\n",
        "then\n",
        "  echo -e \"\\e[31mRclone config not found.\"\n",
        "  # using exit code 0 instead of 1 as colab tends to throw a ton of errors\n",
        "  exit 0\n",
        "fi\n",
        "\n",
        "if ! [ -e /usr/bin/qbittorrent-nox ]\n",
        "then\n",
        "  mkdir -p /root/.config/qBittorrent\n",
        "  curl -s https://pastebin.com/raw/mi1muHwS -o /root/.config/qBittorrent/qBittorrent.conf\n",
        "  wget --show-progress -qO /usr/bin/qbittorrent-nox https://github.com/userdocs/qbittorrent-nox-static/releases/latest/download/x86_64-qbittorrent-nox\n",
        "  chmod 700 /usr/bin/qbittorrent-nox\n",
        "fi\n",
        "\n",
        "rm -rf \"/content/sample_data\"\n",
        "curl -s https://rclone.org/install.sh | sudo bash\n",
        "npm -s install -g npm localtunnel\n",
        "echo -e \"\\033[96mDependencies Fetched.\""
      ],
      "execution_count": null,
      "outputs": []
    },
    {
      "cell_type": "markdown",
      "metadata": {
        "id": "hzS7oIME83L-"
      },
      "source": [
        "## Start a local qBittorrent server & port forward it using [*localtunnel*](https://theboroer.github.io/localtunnel-www)"
      ]
    },
    {
      "cell_type": "code",
      "metadata": {
        "id": "tg2L7MXJ828Y",
        "cellView": "form"
      },
      "source": [
        "# @markdown <br><center><img src=\"https://upload.wikimedia.org/wikipedia/commons/thumb/6/66/New_qBittorrent_Logo.svg/2048px-New_qBittorrent_Logo.svg.png\" height=\"80\"></a></center><br>\n",
        "from subprocess import Popen, PIPE\n",
        "from pathlib import Path as path\n",
        "\n",
        "if path('/usr/bin/qbittorrent-nox').exists():\n",
        "  # start qBittorrent-nox as a daemon\n",
        "  Popen(['qbittorrent-nox', '-d'])\n",
        "\n",
        "  # start localtunnel & open a HTTPS tunnel on port 3000\n",
        "  tunnel = Popen(['lt', '-p', '3000'], stdout=PIPE)\n",
        "  url = tunnel.stdout.readline().decode('utf-8').replace('your url is: ', '').strip('\\n')\n",
        "  print('\\033[92mWebUI:', url)\n",
        "else:\n",
        "  print('\\033[91mqbittorrent-nox not found.')"
      ],
      "execution_count": null,
      "outputs": []
    },
    {
      "cell_type": "markdown",
      "metadata": {
        "id": "zUYynqQN3JBY"
      },
      "source": [
        "## Transfer downloaded files using rclone \n"
      ]
    },
    {
      "cell_type": "code",
      "metadata": {
        "id": "i-vvXLg35Kwx",
        "cellView": "form"
      },
      "source": [
        "#@markdown #### • Enter the source & destination paths & run this cell.\n",
        "#@markdown #### • You can obtain the **source path** by using the file manager to your left.\n",
        "#@markdown #### • **Destination path** is the remote you want to transfer to.\n",
        "\n",
        "SOURCE = \"/content/Downloads\" #@param {type:\"string\"}\n",
        "DESTINATION = \"drive:\" #@param {type:\"string\"}\n",
        "ARGS = \"--transfers=10 --fast-list --stats-one-line -v\" #@param {type:\"string\"}\n",
        "\n",
        "!rclone copy \"$SOURCE\" \"$DESTINATION\" $ARGS --config rclone.conf"
      ],
      "execution_count": null,
      "outputs": []
    },
    {
      "cell_type": "markdown",
      "metadata": {
        "id": "zgsofoU8SB2s"
      },
      "source": [
        "## Kill the server ☠️\n",
        "\n",
        "*Omae wa mou shinderu.*"
      ]
    },
    {
      "cell_type": "code",
      "metadata": {
        "id": "gahpBLWjRWOj",
        "cellView": "form"
      },
      "source": [
        "from subprocess import run\n",
        "STATUS = \"alive\" #@param [\"alive\", \"ded\"]\n",
        "if STATUS == \"ded\":\n",
        "  run(['pkill', '-9', 'qbittorrent-nox'])\n",
        "  tunnel.terminate()"
      ],
      "execution_count": null,
      "outputs": []
    }
  ]
}